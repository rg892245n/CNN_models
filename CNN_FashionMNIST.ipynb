{
  "nbformat": 4,
  "nbformat_minor": 0,
  "metadata": {
    "colab": {
      "provenance": [],
      "gpuType": "T4"
    },
    "kernelspec": {
      "name": "python3",
      "display_name": "Python 3"
    },
    "language_info": {
      "name": "python"
    },
    "accelerator": "GPU"
  },
  "cells": [
    {
      "cell_type": "code",
      "execution_count": 10,
      "metadata": {
        "colab": {
          "base_uri": "https://localhost:8080/"
        },
        "id": "wd9W3X-2_N21",
        "outputId": "78e9a2c3-a674-4377-a3eb-81b7f6612433"
      },
      "outputs": [
        {
          "output_type": "stream",
          "name": "stdout",
          "text": [
            "Collecting keras-tuner\n",
            "  Downloading keras_tuner-1.3.5-py3-none-any.whl (176 kB)\n",
            "\u001b[?25l     \u001b[90m━━━━━━━━━━━━━━━━━━━━━━━━━━━━━━━━━━━━━━━━\u001b[0m \u001b[32m0.0/176.1 kB\u001b[0m \u001b[31m?\u001b[0m eta \u001b[36m-:--:--\u001b[0m\r\u001b[2K     \u001b[90m━━━━━━━━━━━━━━━━━━━━━━━━━━━━━━━━━━━━━━━\u001b[0m \u001b[32m176.1/176.1 kB\u001b[0m \u001b[31m8.4 MB/s\u001b[0m eta \u001b[36m0:00:00\u001b[0m\n",
            "\u001b[?25hRequirement already satisfied: packaging in /usr/local/lib/python3.10/dist-packages (from keras-tuner) (23.1)\n",
            "Requirement already satisfied: requests in /usr/local/lib/python3.10/dist-packages (from keras-tuner) (2.27.1)\n",
            "Collecting kt-legacy (from keras-tuner)\n",
            "  Downloading kt_legacy-1.0.5-py3-none-any.whl (9.6 kB)\n",
            "Requirement already satisfied: urllib3<1.27,>=1.21.1 in /usr/local/lib/python3.10/dist-packages (from requests->keras-tuner) (1.26.16)\n",
            "Requirement already satisfied: certifi>=2017.4.17 in /usr/local/lib/python3.10/dist-packages (from requests->keras-tuner) (2023.5.7)\n",
            "Requirement already satisfied: charset-normalizer~=2.0.0 in /usr/local/lib/python3.10/dist-packages (from requests->keras-tuner) (2.0.12)\n",
            "Requirement already satisfied: idna<4,>=2.5 in /usr/local/lib/python3.10/dist-packages (from requests->keras-tuner) (3.4)\n",
            "Installing collected packages: kt-legacy, keras-tuner\n",
            "Successfully installed keras-tuner-1.3.5 kt-legacy-1.0.5\n"
          ]
        }
      ],
      "source": [
        "!pip install keras-tuner"
      ]
    },
    {
      "cell_type": "code",
      "source": [
        "import tensorflow as tf\n",
        "from tensorflow import keras\n",
        "import numpy as np"
      ],
      "metadata": {
        "id": "mIpF2l9D_tPQ"
      },
      "execution_count": 1,
      "outputs": []
    },
    {
      "cell_type": "code",
      "source": [
        "print(tf.__version__)"
      ],
      "metadata": {
        "colab": {
          "base_uri": "https://localhost:8080/"
        },
        "id": "iLFGpO_QAUcX",
        "outputId": "69983d4b-17cd-49f3-bedc-65a7ab50a714"
      },
      "execution_count": 2,
      "outputs": [
        {
          "output_type": "stream",
          "name": "stdout",
          "text": [
            "2.12.0\n"
          ]
        }
      ]
    },
    {
      "cell_type": "code",
      "source": [
        "fashion_mnist = keras.datasets.fashion_mnist"
      ],
      "metadata": {
        "id": "iLIjzCPeAXcL"
      },
      "execution_count": 3,
      "outputs": []
    },
    {
      "cell_type": "code",
      "source": [
        "(train_images,train_labels),(test_images,test_labels) = fashion_mnist.load_data()"
      ],
      "metadata": {
        "id": "Mr3lEV6sA40b",
        "colab": {
          "base_uri": "https://localhost:8080/"
        },
        "outputId": "01e9c6fa-ee62-4636-c861-ee018af2aced"
      },
      "execution_count": 4,
      "outputs": [
        {
          "output_type": "stream",
          "name": "stdout",
          "text": [
            "Downloading data from https://storage.googleapis.com/tensorflow/tf-keras-datasets/train-labels-idx1-ubyte.gz\n",
            "29515/29515 [==============================] - 0s 0us/step\n",
            "Downloading data from https://storage.googleapis.com/tensorflow/tf-keras-datasets/train-images-idx3-ubyte.gz\n",
            "26421880/26421880 [==============================] - 1s 0us/step\n",
            "Downloading data from https://storage.googleapis.com/tensorflow/tf-keras-datasets/t10k-labels-idx1-ubyte.gz\n",
            "5148/5148 [==============================] - 0s 0us/step\n",
            "Downloading data from https://storage.googleapis.com/tensorflow/tf-keras-datasets/t10k-images-idx3-ubyte.gz\n",
            "4422102/4422102 [==============================] - 1s 0us/step\n"
          ]
        }
      ]
    },
    {
      "cell_type": "code",
      "source": [
        "train_images = train_images/255.0\n",
        "test_images = test_images/255.0"
      ],
      "metadata": {
        "id": "1ng7DU9TBG03"
      },
      "execution_count": 5,
      "outputs": []
    },
    {
      "cell_type": "code",
      "source": [
        "train_images[1].shape"
      ],
      "metadata": {
        "colab": {
          "base_uri": "https://localhost:8080/"
        },
        "id": "F3YcRILRBWqm",
        "outputId": "e11cfa7e-29e0-4201-b7f9-dacd9ac7b108"
      },
      "execution_count": 6,
      "outputs": [
        {
          "output_type": "execute_result",
          "data": {
            "text/plain": [
              "(28, 28)"
            ]
          },
          "metadata": {},
          "execution_count": 6
        }
      ]
    },
    {
      "cell_type": "code",
      "source": [
        "train_images = train_images.reshape(len(train_images),28,28,1)\n",
        "test_images = test_images.reshape(len(test_images),28,28,1)"
      ],
      "metadata": {
        "id": "RKboz_hdBZir"
      },
      "execution_count": 7,
      "outputs": []
    },
    {
      "cell_type": "code",
      "source": [
        "def build_model(hp):\n",
        "  model = keras.Sequential([\n",
        "\n",
        "      #any no. of conv 2D layer can be added\n",
        "      keras.layers.Conv2D(\n",
        "                filters= hp.Int('conv_1_filter', min_value= 32, max_value=128, step=16),\n",
        "          kernel_size=hp.Choice('conv_1_kernel', values=[3,5]),\n",
        "          activation='relu',\n",
        "          input_shape=(28,28,1)\n",
        "      ),\n",
        "\n",
        "      keras.layers.Conv2D(\n",
        "          filters= hp.Int('conv_2_filter', min_value= 32, max_value=64, step=16),\n",
        "          kernel_size=hp.Choice('conv_2_kernel', values=[3,5]),\n",
        "          activation='relu'\n",
        "      ),\n",
        "\n",
        "      keras.layers.Flatten(),\n",
        "\n",
        "      keras.layers.Dense(\n",
        "          units= hp.Int('dense_1_units', min_value=32, max_value=128, step=16),   #nodes in form of min max values here in dense\n",
        "          activation= 'relu'\n",
        "      ),\n",
        "\n",
        "      keras.layers.Dense(10, activation='softmax')\n",
        "\n",
        "  ])\n",
        "\n",
        "  model.compile(optimizer = keras.optimizers.Adam(hp.Choice('learning_rate', values=[1e-2, 1e-3])),\n",
        "\n",
        "                loss = 'sparse_categorical_crossentropy',     #loss function mostly used this for classification/categorical problem\n",
        "                metrics=['accuracy']\n",
        "                )\n",
        "\n",
        "  return model\n"
      ],
      "metadata": {
        "id": "Bs57a_CrBxkR"
      },
      "execution_count": 8,
      "outputs": []
    },
    {
      "cell_type": "code",
      "source": [
        "from kerastuner import RandomSearch\n",
        "from kerastuner.engine.hyperparameters import HyperParameters"
      ],
      "metadata": {
        "id": "taBp-JuGI_dB",
        "colab": {
          "base_uri": "https://localhost:8080/"
        },
        "outputId": "e07b37ec-20f3-4770-eaed-11eff1c677ad"
      },
      "execution_count": 11,
      "outputs": [
        {
          "output_type": "stream",
          "name": "stderr",
          "text": [
            "<ipython-input-11-2bbfbe7dae29>:1: DeprecationWarning: `import kerastuner` is deprecated, please use `import keras_tuner`.\n",
            "  from kerastuner import RandomSearch\n"
          ]
        }
      ]
    },
    {
      "cell_type": "code",
      "source": [
        "tuner_search = RandomSearch(build_model,\n",
        "                            objective ='val_accuracy',\n",
        "                            max_trials=5, directory ='output', project_name=\"MNIST Fashion\")"
      ],
      "metadata": {
        "id": "bM3dDWg7Jaiz"
      },
      "execution_count": 12,
      "outputs": []
    },
    {
      "cell_type": "code",
      "source": [
        "tuner_search.search(train_images, train_labels, epochs=3, validation_split=0.1)"
      ],
      "metadata": {
        "id": "JWAGMjbsOE_f",
        "colab": {
          "base_uri": "https://localhost:8080/"
        },
        "outputId": "4527d7e1-fa79-4ff3-a476-92ff95647c53"
      },
      "execution_count": 14,
      "outputs": [
        {
          "output_type": "stream",
          "name": "stdout",
          "text": [
            "Trial 5 Complete [00h 00m 43s]\n",
            "val_accuracy: 0.8796666860580444\n",
            "\n",
            "Best val_accuracy So Far: 0.903333306312561\n",
            "Total elapsed time: 00h 03m 34s\n"
          ]
        }
      ]
    },
    {
      "cell_type": "code",
      "source": [
        "# Get the best model and hyperparameters\n",
        "best_model = tuner_search.get_best_models(num_models=1)[0]\n",
        "best_hyperparameters = tuner_search.get_best_hyperparameters(num_trials=1)[0]"
      ],
      "metadata": {
        "id": "_bga6c7kQGVq"
      },
      "execution_count": 17,
      "outputs": []
    },
    {
      "cell_type": "code",
      "source": [
        "best_model.summary()"
      ],
      "metadata": {
        "colab": {
          "base_uri": "https://localhost:8080/"
        },
        "id": "zRSVBrqUTtOs",
        "outputId": "d6af0b96-7558-4e3e-8618-04d30448936f"
      },
      "execution_count": 18,
      "outputs": [
        {
          "output_type": "stream",
          "name": "stdout",
          "text": [
            "Model: \"sequential\"\n",
            "_________________________________________________________________\n",
            " Layer (type)                Output Shape              Param #   \n",
            "=================================================================\n",
            " conv2d (Conv2D)             (None, 24, 24, 64)        1664      \n",
            "                                                                 \n",
            " conv2d_1 (Conv2D)           (None, 20, 20, 64)        102464    \n",
            "                                                                 \n",
            " flatten (Flatten)           (None, 25600)             0         \n",
            "                                                                 \n",
            " dense (Dense)               (None, 32)                819232    \n",
            "                                                                 \n",
            " dense_1 (Dense)             (None, 10)                330       \n",
            "                                                                 \n",
            "=================================================================\n",
            "Total params: 923,690\n",
            "Trainable params: 923,690\n",
            "Non-trainable params: 0\n",
            "_________________________________________________________________\n"
          ]
        }
      ]
    },
    {
      "cell_type": "code",
      "source": [
        "\n",
        "# Print the best hyperparameters\n",
        "print(\"Best Hyperparameters:\")\n",
        "print(\"Learning Rate:\", best_hyperparameters.get('learning_rate'))\n",
        "print(\"Conv1 Filter:\", best_hyperparameters.get('conv_1_filter'))\n",
        "print(\"Conv1 Kernel:\", best_hyperparameters.get('conv_1_kernel'))\n",
        "print(\"Conv2 Filter:\", best_hyperparameters.get('conv_2_filter'))\n",
        "print(\"Conv2 Kernel:\", best_hyperparameters.get('conv_2_kernel'))\n",
        "print(\"Dense1 Units:\", best_hyperparameters.get('dense_1_units'))"
      ],
      "metadata": {
        "colab": {
          "base_uri": "https://localhost:8080/"
        },
        "id": "mDiUQXXzzY9H",
        "outputId": "26b3c468-0ee8-490a-849f-5ce9fbd894a2"
      },
      "execution_count": 23,
      "outputs": [
        {
          "output_type": "stream",
          "name": "stdout",
          "text": [
            "Best Hyperparameters:\n",
            "Learning Rate: 0.001\n",
            "Conv1 Filter: 64\n",
            "Conv1 Kernel: 5\n",
            "Conv2 Filter: 64\n",
            "Conv2 Kernel: 5\n",
            "Dense1 Units: 32\n"
          ]
        }
      ]
    },
    {
      "cell_type": "code",
      "source": [
        "# model fit\n",
        "\n",
        "best_model.fit(train_images, train_labels, epochs=10, validation_split=0.1, initial_epoch=3)"
      ],
      "metadata": {
        "colab": {
          "base_uri": "https://localhost:8080/"
        },
        "id": "7OWlu1pwzw4d",
        "outputId": "2cf6b668-15ef-4755-ac5e-ff591e975f84"
      },
      "execution_count": 24,
      "outputs": [
        {
          "output_type": "stream",
          "name": "stdout",
          "text": [
            "Epoch 4/10\n",
            "1688/1688 [==============================] - 10s 5ms/step - loss: 0.2096 - accuracy: 0.9229 - val_loss: 0.2609 - val_accuracy: 0.9085\n",
            "Epoch 5/10\n",
            "1688/1688 [==============================] - 9s 5ms/step - loss: 0.1770 - accuracy: 0.9345 - val_loss: 0.2653 - val_accuracy: 0.9098\n",
            "Epoch 6/10\n",
            "1688/1688 [==============================] - 8s 5ms/step - loss: 0.1501 - accuracy: 0.9446 - val_loss: 0.2932 - val_accuracy: 0.9100\n",
            "Epoch 7/10\n",
            "1688/1688 [==============================] - 9s 5ms/step - loss: 0.1294 - accuracy: 0.9520 - val_loss: 0.3157 - val_accuracy: 0.9078\n",
            "Epoch 8/10\n",
            "1688/1688 [==============================] - 9s 5ms/step - loss: 0.1090 - accuracy: 0.9602 - val_loss: 0.3070 - val_accuracy: 0.9085\n",
            "Epoch 9/10\n",
            "1688/1688 [==============================] - 10s 6ms/step - loss: 0.0934 - accuracy: 0.9651 - val_loss: 0.3599 - val_accuracy: 0.9067\n",
            "Epoch 10/10\n",
            "1688/1688 [==============================] - 8s 5ms/step - loss: 0.0807 - accuracy: 0.9702 - val_loss: 0.3458 - val_accuracy: 0.9138\n"
          ]
        },
        {
          "output_type": "execute_result",
          "data": {
            "text/plain": [
              "<keras.callbacks.History at 0x7cd658027400>"
            ]
          },
          "metadata": {},
          "execution_count": 24
        }
      ]
    },
    {
      "cell_type": "code",
      "source": [],
      "metadata": {
        "id": "6k-SzA8V5lxa"
      },
      "execution_count": null,
      "outputs": []
    }
  ]
}